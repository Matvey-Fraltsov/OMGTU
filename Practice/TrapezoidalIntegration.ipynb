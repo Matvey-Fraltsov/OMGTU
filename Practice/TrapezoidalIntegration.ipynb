{
 "cells": [
  {
   "cell_type": "code",
   "execution_count": 2,
   "metadata": {
    "dotnet_interactive": {
     "language": "csharp"
    },
    "polyglot_notebook": {
     "kernelName": "csharp"
    }
   },
   "outputs": [],
   "source": [
    "using System;\n",
    "\n",
    "public class TrapezoidalIntegration\n",
    "{\n",
    "    public static double CalculateIntegral(Func<double, double> func, double intervalStart, double intervalEnd, double dx)\n",
    "    {\n",
    "        double result = 0;\n",
    "        int intervals = (int)((intervalEnd - intervalStart)/dx);\n",
    "        \n",
    "        for(int i = 0; i < intervals; i++)\n",
    "        {\n",
    "            double x1 = intervalStart + i * dx;\n",
    "            double x2 = intervalStart + (i+1) * dx;\n",
    "            double area = Math.Abs((func(x1) + func(x2))/ 2 * dx);\n",
    "            result += area;\n",
    "        }\n",
    "\n",
    "        if (Math.Abs(result) < double.Epsilon)\n",
    "        {\n",
    "            throw new Exception(\"Результат близок к машинному нулю\");\n",
    "        }\n",
    "\n",
    "        return result;\n",
    "    }\n",
    "}"
   ]
  },
  {
   "cell_type": "code",
   "execution_count": 9,
   "metadata": {},
   "outputs": [
    {
     "name": "stdout",
     "output_type": "stream",
     "text": [
      "Результат: 35,99\r\n"
     ]
    }
   ],
   "source": [
    "Func<double, double> func = (double x) => -x * x + 9;\n",
    "double intervalStart = -3;\n",
    "double intervalEnd = 3;\n",
    "double dx = 0.1;\n",
    "\n",
    "try\n",
    "{\n",
    "    double result = TrapezoidalIntegration.CalculateIntegral(func, intervalStart, intervalEnd, dx);\n",
    "    Console.WriteLine(\"Результат: \" + result);\n",
    "}\n",
    "catch (Exception e)\n",
    "{\n",
    "    Console.WriteLine(e.Message);\n",
    "}\n"
   ]
  }
 ],
 "metadata": {
  "kernelspec": {
   "display_name": ".NET (C#)",
   "language": "C#",
   "name": ".net-csharp"
  },
  "language_info": {
   "name": "polyglot-notebook"
  },
  "polyglot_notebook": {
   "kernelInfo": {
    "defaultKernelName": "csharp",
    "items": [
     {
      "aliases": [],
      "languageName": "csharp",
      "name": "csharp"
     }
    ]
   }
  }
 },
 "nbformat": 4,
 "nbformat_minor": 2
}
